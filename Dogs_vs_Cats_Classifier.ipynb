{
  "cells": [
    {
      "cell_type": "markdown",
      "metadata": {
        "id": "view-in-github",
        "colab_type": "text"
      },
      "source": [
        "<a href=\"https://colab.research.google.com/github/MaGicInU/Cat_Vs_Dog_Classifier/blob/main/Dogs_vs_Cats_Classifier.ipynb\" target=\"_parent\"><img src=\"https://colab.research.google.com/assets/colab-badge.svg\" alt=\"Open In Colab\"/></a>"
      ]
    },
    {
      "cell_type": "code",
      "execution_count": null,
      "metadata": {
        "id": "0UhmHTCVOfiG"
      },
      "outputs": [],
      "source": [
        "!mkdir -p ~/.kaggle\n",
        "!cp kaggle.json ~/.kaggle/"
      ]
    },
    {
      "cell_type": "code",
      "execution_count": null,
      "metadata": {
        "colab": {
          "base_uri": "https://localhost:8080/"
        },
        "id": "gdyHg9pwE_HH",
        "outputId": "2aeefa1c-caee-4865-badd-b74e47ecb326"
      },
      "outputs": [
        {
          "name": "stdout",
          "output_type": "stream",
          "text": [
            "Mounted at /content/drive\n"
          ]
        }
      ],
      "source": [
        "from google.colab import drive\n",
        "drive.mount('/content/drive')"
      ]
    },
    {
      "cell_type": "markdown",
      "metadata": {
        "id": "p6PSxgHtEwrt"
      },
      "source": [
        "# New Section"
      ]
    },
    {
      "cell_type": "code",
      "execution_count": null,
      "metadata": {
        "colab": {
          "base_uri": "https://localhost:8080/"
        },
        "id": "9iC7pNabRTIS",
        "outputId": "f2785cb3-dda3-4edf-af3c-63086e96b588"
      },
      "outputs": [
        {
          "name": "stdout",
          "output_type": "stream",
          "text": [
            "Warning: Your Kaggle API key is readable by other users on this system! To fix this, you can run 'chmod 600 /root/.kaggle/kaggle.json'\n",
            "Downloading dogs-vs-cats.zip to /content\n",
            " 98% 1.04G/1.06G [00:04<00:00, 256MB/s]\n",
            "100% 1.06G/1.06G [00:04<00:00, 273MB/s]\n"
          ]
        }
      ],
      "source": [
        "!kaggle datasets download -d salader/dogs-vs-cats"
      ]
    },
    {
      "cell_type": "code",
      "execution_count": null,
      "metadata": {
        "id": "ZsVQnbnyRVxS"
      },
      "outputs": [],
      "source": [
        "import zipfile\n",
        "zip_ref=zipfile.ZipFile('/content/dogs-vs-cats.zip','r')\n",
        "zip_ref.extractall('/content')\n",
        "zip_ref.close()"
      ]
    },
    {
      "cell_type": "code",
      "execution_count": null,
      "metadata": {
        "id": "w59eKvQQR5nb"
      },
      "outputs": [],
      "source": [
        "import tensorflow as tf\n",
        "from tensorflow import keras\n",
        "from keras import Sequential\n",
        "from keras.layers import Dense,Conv2D,MaxPooling2D,Flatten"
      ]
    },
    {
      "cell_type": "code",
      "execution_count": null,
      "metadata": {
        "colab": {
          "base_uri": "https://localhost:8080/"
        },
        "id": "aDerRtiASqL4",
        "outputId": "fb0fcd0d-7627-474b-9538-226dafac3282"
      },
      "outputs": [
        {
          "name": "stdout",
          "output_type": "stream",
          "text": [
            "Found 20000 files belonging to 2 classes.\n",
            "Found 5000 files belonging to 2 classes.\n"
          ]
        }
      ],
      "source": [
        "#generators\n",
        "#process large amount of data\n",
        "#divide into small batches\n",
        "#go for kera docs--->data loading\n",
        "train_ds = keras.utils.image_dataset_from_directory(\n",
        "    directory='/content/train',\n",
        "    labels='inferred',\n",
        "    label_mode='int',#cat-0,dog-1\n",
        "    batch_size=32,\n",
        "    image_size=(256, 256)) #converts img to same size\n",
        "\n",
        "validation_ds = keras.utils.image_dataset_from_directory(\n",
        "    directory='/content/test',\n",
        "    labels='inferred',\n",
        "    label_mode='int',\n",
        "    batch_size=32,\n",
        "    image_size=(256, 256))"
      ]
    },
    {
      "cell_type": "markdown",
      "metadata": {
        "id": "avA3tEcKWGHA"
      },
      "source": [
        "*  It first divides every pixel value in the image tensor by 255.\n",
        "*  This is done to normalize the pixel values to the range [0, 1].\n",
        "*  Normalization is a common preprocessing step for image data because it scales the data to a common range, making it easier for neural networks to learn and converge during training.\n",
        "*\n",
        "  After the division, the tf.cast function is used to convert the data to the tf.float32 data type, ensuring that the data is represented as floating-point numbers.\n",
        "\n",
        "\n",
        "\n"
      ]
    },
    {
      "cell_type": "code",
      "execution_count": null,
      "metadata": {
        "id": "_SvzoRg0Ul_S"
      },
      "outputs": [],
      "source": [
        "# Normalize\n",
        "def process(image,label):\n",
        "  image=tf.cast(image/255,tf.float32)\n",
        "  return image,label\n",
        "\n",
        "train_ds = train_ds.map(process)\n",
        "validation_ds = validation_ds.map(process)\n"
      ]
    },
    {
      "cell_type": "markdown",
      "metadata": {
        "id": "tYc2IDoGWrJQ"
      },
      "source": [
        "<h1>3 Layers</h1>\n",
        "\n",
        "*   Layer 1- 32 filters\n",
        "*   Layer 2- 64 filters\n",
        "*   Layer 3- 128 filters\n",
        "\n",
        "\n",
        "\n"
      ]
    },
    {
      "cell_type": "code",
      "execution_count": null,
      "metadata": {
        "id": "RkedtYQfWjS5"
      },
      "outputs": [],
      "source": [
        "#create CNN model\n",
        "\n",
        "model = Sequential()\n",
        "\n",
        "model.add(Conv2D(128,kernel_size=(3,3),padding='valid',activation='relu',input_shape=(256,256,3)))\n",
        "model.add(MaxPooling2D(pool_size=(2,2),strides=2,padding='valid'))\n",
        "\n",
        "model.add(Conv2D(64,kernel_size=(3,3),padding='valid',activation='relu',input_shape=(256,256,3)))\n",
        "model.add(MaxPooling2D(pool_size=(2,2),strides=2,padding='valid'))\n",
        "\n",
        "model.add(Conv2D(128,kernel_size=(3,3),padding='valid',activation='relu',input_shape=(256,256,3)))\n",
        "model.add(MaxPooling2D(pool_size=(2,2),strides=2,padding='valid'))\n",
        "\n",
        "model.add(Flatten())\n",
        "\n",
        "model.add(Dense(128,activation='relu'))\n",
        "model.add(Dense(64,activation='relu'))\n",
        "model.add(Dense(1,activation='sigmoid'))\n",
        "\n",
        "\n",
        "\n",
        "\n",
        "\n",
        "\n",
        "\n",
        "\n"
      ]
    },
    {
      "cell_type": "code",
      "execution_count": null,
      "metadata": {
        "colab": {
          "base_uri": "https://localhost:8080/"
        },
        "id": "8TwIOea8EhgO",
        "outputId": "e050eab3-b175-4acd-cebd-6f9fd8113a9c"
      },
      "outputs": [
        {
          "name": "stdout",
          "output_type": "stream",
          "text": [
            "Model: \"sequential\"\n",
            "_________________________________________________________________\n",
            " Layer (type)                Output Shape              Param #   \n",
            "=================================================================\n",
            " conv2d (Conv2D)             (None, 254, 254, 128)     3584      \n",
            "                                                                 \n",
            " max_pooling2d (MaxPooling2  (None, 127, 127, 128)     0         \n",
            " D)                                                              \n",
            "                                                                 \n",
            " conv2d_1 (Conv2D)           (None, 125, 125, 64)      73792     \n",
            "                                                                 \n",
            " max_pooling2d_1 (MaxPoolin  (None, 62, 62, 64)        0         \n",
            " g2D)                                                            \n",
            "                                                                 \n",
            " conv2d_2 (Conv2D)           (None, 60, 60, 128)       73856     \n",
            "                                                                 \n",
            " max_pooling2d_2 (MaxPoolin  (None, 30, 30, 128)       0         \n",
            " g2D)                                                            \n",
            "                                                                 \n",
            " flatten (Flatten)           (None, 115200)            0         \n",
            "                                                                 \n",
            " dense (Dense)               (None, 128)               14745728  \n",
            "                                                                 \n",
            " dense_1 (Dense)             (None, 64)                8256      \n",
            "                                                                 \n",
            " dense_2 (Dense)             (None, 1)                 65        \n",
            "                                                                 \n",
            "=================================================================\n",
            "Total params: 14905281 (56.86 MB)\n",
            "Trainable params: 14905281 (56.86 MB)\n",
            "Non-trainable params: 0 (0.00 Byte)\n",
            "_________________________________________________________________\n"
          ]
        }
      ],
      "source": [
        "model.summary()"
      ]
    },
    {
      "cell_type": "code",
      "execution_count": null,
      "metadata": {
        "id": "6zZA9LF8HbfQ"
      },
      "outputs": [],
      "source": [
        "model.compile(optimizer='adam',loss=\"binary_crossentropy\",metrics=['accuracy'])"
      ]
    },
    {
      "cell_type": "code",
      "execution_count": null,
      "metadata": {
        "colab": {
          "background_save": true,
          "base_uri": "https://localhost:8080/"
        },
        "id": "HrREdfZiHr5p",
        "outputId": "60f598ed-76a5-449c-dd63-d3dc49cc0e1f"
      },
      "outputs": [
        {
          "name": "stdout",
          "output_type": "stream",
          "text": [
            "Epoch 1/10\n",
            "625/625 [==============================] - 109s 153ms/step - loss: 0.6549 - accuracy: 0.6026 - val_loss: 0.5897 - val_accuracy: 0.6816\n",
            "Epoch 2/10\n",
            "625/625 [==============================] - 98s 156ms/step - loss: 0.5181 - accuracy: 0.7431 - val_loss: 0.4703 - val_accuracy: 0.7762\n",
            "Epoch 3/10\n",
            "625/625 [==============================] - 99s 157ms/step - loss: 0.3977 - accuracy: 0.8189 - val_loss: 0.4988 - val_accuracy: 0.7838\n",
            "Epoch 4/10\n",
            "625/625 [==============================] - 97s 154ms/step - loss: 0.2594 - accuracy: 0.8891 - val_loss: 0.6094 - val_accuracy: 0.7790\n",
            "Epoch 5/10\n",
            "625/625 [==============================] - 97s 154ms/step - loss: 0.1460 - accuracy: 0.9434 - val_loss: 0.7829 - val_accuracy: 0.7808\n",
            "Epoch 6/10\n",
            "625/625 [==============================] - 98s 157ms/step - loss: 0.0810 - accuracy: 0.9708 - val_loss: 1.0374 - val_accuracy: 0.7816\n",
            "Epoch 7/10\n",
            "625/625 [==============================] - 96s 153ms/step - loss: 0.0542 - accuracy: 0.9816 - val_loss: 1.0332 - val_accuracy: 0.7886\n",
            "Epoch 8/10\n",
            "625/625 [==============================] - 95s 152ms/step - loss: 0.0540 - accuracy: 0.9834 - val_loss: 1.1941 - val_accuracy: 0.7776\n",
            "Epoch 9/10\n",
            "625/625 [==============================] - 95s 152ms/step - loss: 0.0352 - accuracy: 0.9885 - val_loss: 1.0733 - val_accuracy: 0.7910\n",
            "Epoch 10/10\n",
            "625/625 [==============================] - 94s 151ms/step - loss: 0.0301 - accuracy: 0.9905 - val_loss: 1.3121 - val_accuracy: 0.7856\n"
          ]
        }
      ],
      "source": [
        "history =model.fit(train_ds,epochs=10,validation_data=validation_ds)"
      ]
    }
  ],
  "metadata": {
    "accelerator": "GPU",
    "colab": {
      "provenance": [],
      "authorship_tag": "ABX9TyPdhGsTD4McwreRSQoiSHSW",
      "include_colab_link": true
    },
    "kernelspec": {
      "display_name": "Python 3",
      "name": "python3"
    },
    "language_info": {
      "name": "python"
    }
  },
  "nbformat": 4,
  "nbformat_minor": 0
}